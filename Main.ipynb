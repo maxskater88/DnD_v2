{
 "cells": [
  {
   "cell_type": "code",
   "execution_count": 2,
   "metadata": {},
   "outputs": [],
   "source": [
    "#Dnd for some fun\n",
    "################################################################################\n",
    "#       IMPORTS\n",
    "################################################################################\n",
    "import Dnd_Player as  pler\n",
    "#import Dnd_Classes as disp\n",
    "#import Dnd_Races as   rces\n",
    "#import Dnd_Weapons as weap"
   ]
  },
  {
   "cell_type": "code",
   "execution_count": null,
   "metadata": {},
   "outputs": [],
   "source": [
    "# temp\n"
   ]
  },
  {
   "cell_type": "code",
   "execution_count": 3,
   "metadata": {},
   "outputs": [
    {
     "name": "stdout",
     "output_type": "stream",
     "text": [
      "0\n",
      "--->  CREATING CHAR #1\n",
      "LETS BUILD A CHARACTER TO PLAY IN OUR D&D GAME!\n",
      "LETS CHOOSE A CLASS FOR OUR CHARACTER!\n",
      "For each stat you must select a value from the list:\n",
      "{8: 0, 9: 1, 10: 2, 11: 3, 12: 4, 13: 5, 14: 7, 15: 9, 16: 11, 17: 15, 18: 20, 19: 25}\n",
      "And the total of that stats' cost must be at most: 27\n",
      "Please enter a number\n",
      "Please enter a number\n",
      "You choose too many stats: {'Strength': 19, 'Dexterity': 19, 'Charisma': 19, 'Wisdom': 19, 'Intelligence': 19, 'Constitution': 19, 'HP': 0, 'Armor Class': 0}.\n",
      "Your total was 150 out of 27\n"
     ]
    }
   ],
   "source": [
    "################################################################################\n",
    "#       MAIN\n",
    "################################################################################\n",
    "print(pler.Player.num_of_players)\n",
    "player1 = pler.Player()"
   ]
  },
  {
   "cell_type": "code",
   "execution_count": null,
   "metadata": {},
   "outputs": [],
   "source": [
    "# player1."
   ]
  },
  {
   "cell_type": "code",
   "execution_count": 6,
   "metadata": {},
   "outputs": [
    {
     "name": "stdout",
     "output_type": "stream",
     "text": [
      "{'Strength': 9, 'Dexterity': 9, 'Charisma': 9, 'Wisdom': 9, 'Intelligence': 9, 'Constitution': 9, 'HP': 0, 'Armor Class': 0}\n",
      "{'Strength': 0, 'Dexterity': 0, 'Charisma': 0, 'Wisdom': 0, 'Intelligence': 0, 'Constitution': 0, 'HP': 0, 'Armor Class': 0}\n"
     ]
    }
   ],
   "source": [
    "print(player1.base_stats)\n",
    "print(player1.M_Stat)"
   ]
  },
  {
   "cell_type": "code",
   "execution_count": null,
   "metadata": {},
   "outputs": [],
   "source": [
    "# print(layer1.race.race_mod)\n",
    "# print(player1.race.description)\n",
    "# print(player1.discipline.class_name)\n",
    "# print(player1.base_stats)\n",
    "# print(pler.Player.D10_Roll())\n",
    "# End of File"
   ]
  }
 ],
 "metadata": {
  "kernelspec": {
   "display_name": "python_2022_12",
   "language": "python",
   "name": "python3"
  },
  "language_info": {
   "codemirror_mode": {
    "name": "ipython",
    "version": 3
   },
   "file_extension": ".py",
   "mimetype": "text/x-python",
   "name": "python",
   "nbconvert_exporter": "python",
   "pygments_lexer": "ipython3",
   "version": "3.11.8"
  }
 },
 "nbformat": 4,
 "nbformat_minor": 2
}
