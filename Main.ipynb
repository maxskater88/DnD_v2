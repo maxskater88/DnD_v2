{
 "cells": [
  {
   "cell_type": "code",
   "execution_count": 1,
   "metadata": {},
   "outputs": [],
   "source": [
    "#Dnd for some fun\n",
    "################################################################################\n",
    "#       IMPORTS\n",
    "################################################################################\n",
    "import Dnd_Player as  pler\n",
    "#import Dnd_Classes as disp\n",
    "#import Dnd_Races as   rces\n",
    "#import Dnd_Weapons as weap"
   ]
  },
  {
   "cell_type": "code",
   "execution_count": 2,
   "metadata": {},
   "outputs": [
    {
     "name": "stdout",
     "output_type": "stream",
     "text": [
      "0\n",
      "--->  CREATING CHAR #1\n",
      "LETS BUILD A CHARACTER TO PLAY IN OUR D&D GAME!\n",
      "LETS CHOOSE A CLASS FOR OUR CHARACTER!\n",
      "For each stat you must select a value from the list:\n",
      "{8: 0, 9: 1, 10: 2, 11: 3, 12: 4, 13: 5, 14: 7, 15: 9}\n",
      "And the total of that stats' cost must be at most: 27\n"
     ]
    }
   ],
   "source": [
    "################################################################################\n",
    "#       MAIN\n",
    "################################################################################\n",
    "print(pler.player.num_of_players)\n",
    "player1 = pler.player()"
   ]
  },
  {
   "cell_type": "code",
   "execution_count": 5,
   "metadata": {},
   "outputs": [
    {
     "name": "stdout",
     "output_type": "stream",
     "text": [
      "A spellcaster who draws on inherent magic from a gift or bloodline\n"
     ]
    }
   ],
   "source": [
    "print(player1.discipline.description)"
   ]
  },
  {
   "cell_type": "code",
   "execution_count": null,
   "metadata": {},
   "outputs": [],
   "source": [
    "# print(player1.race.race_mod)\n",
    "# print(player1.race.description)\n",
    "# print(player1.discipline.class_name)\n",
    "# print(player1.base_stats)\n",
    "# print(pler.player.D10_Roll())\n",
    "# End of File"
   ]
  }
 ],
 "metadata": {
  "kernelspec": {
   "display_name": "python_2022_12",
   "language": "python",
   "name": "python3"
  },
  "language_info": {
   "codemirror_mode": {
    "name": "ipython",
    "version": 3
   },
   "file_extension": ".py",
   "mimetype": "text/x-python",
   "name": "python",
   "nbconvert_exporter": "python",
   "pygments_lexer": "ipython3",
   "version": "3.11.8"
  }
 },
 "nbformat": 4,
 "nbformat_minor": 2
}
