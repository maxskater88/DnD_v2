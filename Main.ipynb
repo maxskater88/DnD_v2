{
 "cells": [
  {
   "cell_type": "code",
   "execution_count": null,
   "metadata": {},
   "outputs": [],
   "source": [
    "#Dnd for some fun\n",
    "################################################################################\n",
    "#       IMPORTS\n",
    "################################################################################\n",
    "import Dnd_Player as  pler\n",
    "#import Dnd_Classes as disp\n",
    "#import Dnd_Races as   rces\n",
    "#import Dnd_Weapons as weap"
   ]
  },
  {
   "cell_type": "code",
   "execution_count": null,
   "metadata": {},
   "outputs": [],
   "source": [
    "################################################################################\n",
    "#       MAIN\n",
    "################################################################################\n",
    "print(pler.player.num_of_players)\n",
    "player1 = pler.player()\n",
    "player2 = pler.player()"
   ]
  },
  {
   "cell_type": "code",
   "execution_count": null,
   "metadata": {},
   "outputs": [],
   "source": [
    "print('\\n\\n\\n\\n')\n",
    "print(player1.discipline.hit_die)\n",
    "print(player1.discipline.hit_die)\n",
    "print(player1.discipline.hit_die)\n",
    "print(player1.discipline.hit_die)\n",
    "print(player1.discipline.hit_die)\n",
    "print(player1.discipline.hit_die)"
   ]
  },
  {
   "cell_type": "code",
   "execution_count": null,
   "metadata": {},
   "outputs": [],
   "source": [
    "# print(player1.race.race_mod)\n",
    "# print(player1.race.description)\n",
    "# print(player1.discipline.class_name)\n",
    "# print(player1.base_stats)\n",
    "# print(pler.player.D10_Roll())\n",
    "# End of File"
   ]
  }
 ],
 "metadata": {
  "language_info": {
   "name": "python"
  }
 },
 "nbformat": 4,
 "nbformat_minor": 2
}
