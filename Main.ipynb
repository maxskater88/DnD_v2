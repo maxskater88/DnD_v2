{
 "cells": [
  {
   "cell_type": "code",
   "execution_count": 2,
   "metadata": {},
   "outputs": [],
   "source": [
    "#Dnd for some fun\n",
    "################################################################################\n",
    "#       IMPORTS\n",
    "################################################################################\n",
    "import Dnd_Player as  pler\n",
    "#import Dnd_Classes as disp\n",
    "#import Dnd_Races as   rces\n",
    "#import Dnd_Weapons as weap"
   ]
  },
  {
   "cell_type": "code",
   "execution_count": 1,
   "metadata": {},
   "outputs": [
    {
     "ename": "SyntaxError",
     "evalue": "invalid syntax (351111198.py, line 1)",
     "output_type": "error",
     "traceback": [
      "\u001b[1;36m  Cell \u001b[1;32mIn[1], line 1\u001b[1;36m\u001b[0m\n\u001b[1;33m    pler.\u001b[0m\n\u001b[1;37m         ^\u001b[0m\n\u001b[1;31mSyntaxError\u001b[0m\u001b[1;31m:\u001b[0m invalid syntax\n"
     ]
    }
   ],
   "source": [
    "pler."
   ]
  },
  {
   "cell_type": "code",
   "execution_count": 4,
   "metadata": {},
   "outputs": [
    {
     "name": "stdout",
     "output_type": "stream",
     "text": [
      "0\n",
      "--->  CREATING CHAR #1\n",
      "LETS BUILD A CHARACTER TO PLAY IN OUR D&D GAME!\n",
      "Your randomly selected race is: Lightfoot Halfling\n",
      "LETS CHOOSE A CLASS FOR OUR CHARACTER!\n",
      "Your randomly selected class is: Druid\n"
     ]
    },
    {
     "ename": "AttributeError",
     "evalue": "module 'Dnd_Classes' has no attribute 'get_class_obj'",
     "output_type": "error",
     "traceback": [
      "\u001b[1;31m---------------------------------------------------------------------------\u001b[0m",
      "\u001b[1;31mAttributeError\u001b[0m                            Traceback (most recent call last)",
      "Cell \u001b[1;32mIn[4], line 5\u001b[0m\n\u001b[0;32m      1\u001b[0m \u001b[38;5;66;03m################################################################################\u001b[39;00m\n\u001b[0;32m      2\u001b[0m \u001b[38;5;66;03m#       MAIN\u001b[39;00m\n\u001b[0;32m      3\u001b[0m \u001b[38;5;66;03m################################################################################\u001b[39;00m\n\u001b[0;32m      4\u001b[0m \u001b[38;5;28mprint\u001b[39m(pler\u001b[38;5;241m.\u001b[39mPlayer\u001b[38;5;241m.\u001b[39mnum_of_players)\n\u001b[1;32m----> 5\u001b[0m player1 \u001b[38;5;241m=\u001b[39m pler\u001b[38;5;241m.\u001b[39mPlayer()\n",
      "File \u001b[1;32me:\\Data\\00_Projects\\DnD\\Dnd_v2\\Dnd_Player.py:73\u001b[0m, in \u001b[0;36mPlayer.__init__\u001b[1;34m(self)\u001b[0m\n\u001b[0;32m     70\u001b[0m \u001b[38;5;66;03m# Get Primary Character info (race, class, starting equipment)\u001b[39;00m\n\u001b[0;32m     71\u001b[0m \u001b[38;5;66;03m# Note: Could create a binary and a list user input method so that I dont have to code that out every time\u001b[39;00m\n\u001b[0;32m     72\u001b[0m \u001b[38;5;28mself\u001b[39m\u001b[38;5;241m.\u001b[39mrace \u001b[38;5;241m=\u001b[39m Player\u001b[38;5;241m.\u001b[39m_get_race(\u001b[38;5;28mself\u001b[39m\u001b[38;5;241m.\u001b[39mall_races, randomize_char)\n\u001b[1;32m---> 73\u001b[0m \u001b[38;5;28mself\u001b[39m\u001b[38;5;241m.\u001b[39mdiscipline \u001b[38;5;241m=\u001b[39m Player\u001b[38;5;241m.\u001b[39m_get_class(\u001b[38;5;28mself\u001b[39m\u001b[38;5;241m.\u001b[39mFightClasses, randomize_char)\n\u001b[0;32m     74\u001b[0m Player\u001b[38;5;241m.\u001b[39m_initial_stats(\u001b[38;5;28mself\u001b[39m, randomize_char)\n\u001b[0;32m     75\u001b[0m \u001b[38;5;66;03m# self.starting_weps = starting_weps\u001b[39;00m\n",
      "File \u001b[1;32me:\\Data\\00_Projects\\DnD\\Dnd_v2\\Dnd_Player.py:104\u001b[0m, in \u001b[0;36mPlayer._get_class\u001b[1;34m(FightClasses, randomize)\u001b[0m\n\u001b[0;32m    102\u001b[0m     rnd_int \u001b[38;5;241m=\u001b[39m rnd\u001b[38;5;241m.\u001b[39mrandrange(\u001b[38;5;28mlen\u001b[39m(FightClasses))\n\u001b[0;32m    103\u001b[0m     \u001b[38;5;28mprint\u001b[39m(\u001b[38;5;124mf\u001b[39m\u001b[38;5;124m\"\u001b[39m\u001b[38;5;124mYour randomly selected class is: \u001b[39m\u001b[38;5;132;01m{\u001b[39;00mFightClasses[rnd_int]\u001b[38;5;132;01m}\u001b[39;00m\u001b[38;5;124m\"\u001b[39m)\n\u001b[1;32m--> 104\u001b[0m     \u001b[38;5;28;01mreturn\u001b[39;00m Discipline\u001b[38;5;241m.\u001b[39mget_class_obj(FightClasses[rnd_int])\n\u001b[0;32m    106\u001b[0m \u001b[38;5;28;01mwhile\u001b[39;00m selected_class \u001b[38;5;129;01mnot\u001b[39;00m \u001b[38;5;129;01min\u001b[39;00m(FightClasses):\n\u001b[0;32m    107\u001b[0m     selected_class \u001b[38;5;241m=\u001b[39m \u001b[38;5;28minput\u001b[39m(\u001b[38;5;124mf\u001b[39m\u001b[38;5;124m\"\u001b[39m\u001b[38;5;124mSelect a Class:\u001b[39m\u001b[38;5;130;01m\\n\u001b[39;00m\u001b[38;5;124m \u001b[39m\u001b[38;5;132;01m{\u001b[39;00mFightClasses\u001b[38;5;132;01m}\u001b[39;00m\u001b[38;5;124m \u001b[39m\u001b[38;5;130;01m\\n\u001b[39;00m\u001b[38;5;124m\"\u001b[39m)\n",
      "\u001b[1;31mAttributeError\u001b[0m: module 'Dnd_Classes' has no attribute 'get_class_obj'"
     ]
    }
   ],
   "source": [
    "################################################################################\n",
    "#       MAIN\n",
    "################################################################################\n",
    "print(pler.Player.num_of_players)\n",
    "player1 = pler.Player()"
   ]
  },
  {
   "cell_type": "code",
   "execution_count": null,
   "metadata": {},
   "outputs": [],
   "source": [
    "# player1."
   ]
  },
  {
   "cell_type": "code",
   "execution_count": 5,
   "metadata": {},
   "outputs": [
    {
     "name": "stdout",
     "output_type": "stream",
     "text": [
      "{'Strength': 10, 'Dexterity': 10, 'Charisma': 10, 'Wisdom': 10, 'Intelligence': 10, 'Constitution': 10, 'HP': 0, 'Armor Class': 0}\n",
      "{'Strength': 0, 'Dexterity': 0, 'Charisma': 0, 'Wisdom': 0, 'Intelligence': 0, 'Constitution': 0, 'HP': 0, 'Armor Class': 0}\n"
     ]
    }
   ],
   "source": [
    "print(player1.base_stats)\n",
    "print(player1.M_Stat)"
   ]
  },
  {
   "cell_type": "code",
   "execution_count": null,
   "metadata": {},
   "outputs": [],
   "source": [
    "# print(layer1.race.race_mod)\n",
    "# print(player1.race.description)\n",
    "# print(player1.discipline.class_name)\n",
    "# print(player1.base_stats)\n",
    "# print(pler.Player.D10_Roll())\n",
    "# End of File"
   ]
  }
 ],
 "metadata": {
  "kernelspec": {
   "display_name": "python_2022_12",
   "language": "python",
   "name": "python3"
  },
  "language_info": {
   "codemirror_mode": {
    "name": "ipython",
    "version": 3
   },
   "file_extension": ".py",
   "mimetype": "text/x-python",
   "name": "python",
   "nbconvert_exporter": "python",
   "pygments_lexer": "ipython3",
   "version": "3.11.8"
  }
 },
 "nbformat": 4,
 "nbformat_minor": 2
}
