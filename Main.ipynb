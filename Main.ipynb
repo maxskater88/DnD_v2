{
 "cells": [
  {
   "cell_type": "code",
   "execution_count": 1,
   "metadata": {},
   "outputs": [],
   "source": [
    "#Dnd for some fun\n",
    "################################################################################\n",
    "#       IMPORTS\n",
    "################################################################################\n",
    "import Dnd_Player as  pler\n",
    "#import Dnd_Classes as disp\n",
    "#import Dnd_Races as   rces\n",
    "#import Dnd_Weapons as weap"
   ]
  },
  {
   "cell_type": "code",
   "execution_count": null,
   "metadata": {},
   "outputs": [],
   "source": [
    "# temp\n"
   ]
  },
  {
   "cell_type": "code",
   "execution_count": 3,
   "metadata": {},
   "outputs": [
    {
     "name": "stdout",
     "output_type": "stream",
     "text": [
      "1\n",
      "--->  CREATING CHAR #2\n",
      "LETS BUILD A CHARACTER TO PLAY IN OUR D&D GAME!\n",
      "LETS CHOOSE A CLASS FOR OUR CHARACTER!\n",
      "For each stat you must select a value from the list:\n",
      "{8: 0, 9: 1, 10: 2, 11: 3, 12: 4, 13: 5, 14: 7, 15: 9, 16: 11, 17: 15, 18: 20, 19: 25}\n",
      "And the total of that stats' cost must be at most: 27\n"
     ]
    }
   ],
   "source": [
    "################################################################################\n",
    "#       MAIN\n",
    "################################################################################\n",
    "print(pler.Player.num_of_players)\n",
    "player1 = pler.Player()"
   ]
  },
  {
   "cell_type": "code",
   "execution_count": 13,
   "metadata": {},
   "outputs": [
    {
     "name": "stdout",
     "output_type": "stream",
     "text": [
      "medium\n",
      "25\n",
      "An inspiring magician whose power echoes the music of creation\n",
      "6\n",
      "Charisma\n"
     ]
    },
    {
     "ename": "AttributeError",
     "evalue": "'Bard' object has no attribute 'weaps_prof'",
     "output_type": "error",
     "traceback": [
      "\u001b[1;31m---------------------------------------------------------------------------\u001b[0m",
      "\u001b[1;31mAttributeError\u001b[0m                            Traceback (most recent call last)",
      "Cell \u001b[1;32mIn[13], line 7\u001b[0m\n\u001b[0;32m      5\u001b[0m \u001b[38;5;28mprint\u001b[39m(player1\u001b[38;5;241m.\u001b[39mdiscipline\u001b[38;5;241m.\u001b[39mhit_die)\n\u001b[0;32m      6\u001b[0m \u001b[38;5;28mprint\u001b[39m(player1\u001b[38;5;241m.\u001b[39mdiscipline\u001b[38;5;241m.\u001b[39mprimary_ability)\n\u001b[1;32m----> 7\u001b[0m \u001b[38;5;28mprint\u001b[39m(player1\u001b[38;5;241m.\u001b[39mdiscipline\u001b[38;5;241m.\u001b[39mweaps_prof)\n",
      "\u001b[1;31mAttributeError\u001b[0m: 'Bard' object has no attribute 'weaps_prof'"
     ]
    }
   ],
   "source": [
    "print(player1.race.size)\n",
    "print(player1.race.speed)\n",
    "\n",
    "print(player1.discipline.description)\n",
    "print(player1.discipline.hit_die)\n",
    "print(player1.discipline.primary_ability)\n",
    "print(player1.discipline.)"
   ]
  },
  {
   "cell_type": "code",
   "execution_count": 5,
   "metadata": {},
   "outputs": [
    {
     "name": "stdout",
     "output_type": "stream",
     "text": [
      "{'Strength': 8, 'Dexterity': 8, 'Charisma': 16, 'Wisdom': 15, 'Intelligence': 8, 'Constitution': 10, 'HP': 0, 'Armor Class': 0}\n",
      "{'Strength': 0, 'Dexterity': 0, 'Charisma': 0, 'Wisdom': 0, 'Intelligence': 0, 'Constitution': 0, 'HP': 0, 'Armor Class': 0}\n"
     ]
    }
   ],
   "source": [
    "print(player1.base_stats)\n",
    "print(player1.M_Stat)"
   ]
  },
  {
   "cell_type": "code",
   "execution_count": null,
   "metadata": {},
   "outputs": [],
   "source": [
    "# print(layer1.race.race_mod)\n",
    "# print(player1.race.description)\n",
    "# print(player1.discipline.class_name)\n",
    "# print(player1.base_stats)\n",
    "# print(pler.Player.D10_Roll())\n",
    "# End of File"
   ]
  }
 ],
 "metadata": {
  "kernelspec": {
   "display_name": "python_2022_12",
   "language": "python",
   "name": "python3"
  },
  "language_info": {
   "codemirror_mode": {
    "name": "ipython",
    "version": 3
   },
   "file_extension": ".py",
   "mimetype": "text/x-python",
   "name": "python",
   "nbconvert_exporter": "python",
   "pygments_lexer": "ipython3",
   "version": "3.11.8"
  }
 },
 "nbformat": 4,
 "nbformat_minor": 2
}
